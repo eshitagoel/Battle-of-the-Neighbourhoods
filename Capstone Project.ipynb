{
    "cells": [
        {
            "cell_type": "markdown",
            "metadata": {
                "collapsed": true
            },
            "source": "# Battle of the Neighborhoods\n## Coursera Capstone Project"
        },
        {
            "cell_type": "code",
            "execution_count": 6,
            "metadata": {},
            "outputs": [],
            "source": "import pandas as pd\nimport numpy as np"
        },
        {
            "cell_type": "markdown",
            "metadata": {},
            "source": "## We make use of the data available on Wikipedia. \nHere we are using the link to the Wikipedia page hat has information about the various postal codes, Boroughs, and neighborhoods in Toronto. We will import this data into the Jupyter Notebook."
        },
        {
            "cell_type": "code",
            "execution_count": 7,
            "metadata": {},
            "outputs": [],
            "source": "import requests\nimport urllib.request\nimport time\nfrom bs4 import BeautifulSoup\nimport numpy as np\nimport pandas as pd\nfrom urllib.request import urlopen\nurl = 'https://en.wikipedia.org/wiki/List_of_postal_codes_of_Canada:_M'\npage = urllib.request.urlopen(url)\nsoup = BeautifulSoup(page, \"lxml\")"
        },
        {
            "cell_type": "markdown",
            "metadata": {},
            "source": "## We are trying to import the Table from the Wikipedia page using Beautiful Soup"
        },
        {
            "cell_type": "code",
            "execution_count": 8,
            "metadata": {},
            "outputs": [],
            "source": "# use the 'find_all' function to bring back all instances of the 'table' tag in the HTML and store in 'all_tables' variable\nall_tables=soup.find_all(\"table\")\n"
        },
        {
            "cell_type": "markdown",
            "metadata": {},
            "source": "We know by inspecting the Wikipedia page that our desired table has <b>class = \"wikitable sortable\"</b><br>\nWe can use this information to select our required table and store it in right_table."
        },
        {
            "cell_type": "code",
            "execution_count": 9,
            "metadata": {},
            "outputs": [],
            "source": "right_table=soup.find('table', class_='wikitable sortable')\n"
        },
        {
            "cell_type": "markdown",
            "metadata": {},
            "source": "## Converting into Pandas dataframe: \nOnce we have our table stored in <b>right_table</b>, we can extract the columns and cell values from this table<br>\nWe know that each row begins with a <b>tr</b> tab and each cell value will begin with a <b>td</b> tab.<br>\nusing this information we can go through the table and extract the values one by one and store them into 3 columns which we can later rename when we add them into our pandas dataframe."
        },
        {
            "cell_type": "code",
            "execution_count": 10,
            "metadata": {},
            "outputs": [],
            "source": "A=[]\nB=[]\nC=[]\n\nfor row in right_table.findAll('tr'):\n    cells=row.findAll('td')\n    if len(cells)==3:\n        A.append(cells[0].find(text=True))\n        B.append(cells[1].find(text=True))\n        C.append(cells[2].find(text=True))"
        },
        {
            "cell_type": "markdown",
            "metadata": {},
            "source": "We now rename our columns and add them to our pandas data frame names <b>df</b><br>\nThe three columns are names <b>Postal Code</b>, <b>Borough</b> and <b>Neighborhood</b>"
        },
        {
            "cell_type": "code",
            "execution_count": 13,
            "metadata": {},
            "outputs": [
                {
                    "data": {
                        "text/html": "<div>\n<style scoped>\n    .dataframe tbody tr th:only-of-type {\n        vertical-align: middle;\n    }\n\n    .dataframe tbody tr th {\n        vertical-align: top;\n    }\n\n    .dataframe thead th {\n        text-align: right;\n    }\n</style>\n<table border=\"1\" class=\"dataframe\">\n  <thead>\n    <tr style=\"text-align: right;\">\n      <th></th>\n      <th>Postal Code</th>\n      <th>Borough</th>\n      <th>Neighborhood</th>\n    </tr>\n  </thead>\n  <tbody>\n    <tr>\n      <th>0</th>\n      <td>M1A</td>\n      <td>Not assigned</td>\n      <td>Not assigned</td>\n    </tr>\n    <tr>\n      <th>1</th>\n      <td>M2A</td>\n      <td>Not assigned</td>\n      <td>Not assigned</td>\n    </tr>\n    <tr>\n      <th>2</th>\n      <td>M3A</td>\n      <td>North York</td>\n      <td>Parkwoods</td>\n    </tr>\n    <tr>\n      <th>3</th>\n      <td>M4A</td>\n      <td>North York</td>\n      <td>Victoria Village</td>\n    </tr>\n    <tr>\n      <th>4</th>\n      <td>M5A</td>\n      <td>Downtown Toronto</td>\n      <td>Regent Park, Harbourfront</td>\n    </tr>\n    <tr>\n      <th>5</th>\n      <td>M6A</td>\n      <td>North York</td>\n      <td>Lawrence Manor, Lawrence Heights</td>\n    </tr>\n    <tr>\n      <th>6</th>\n      <td>M7A</td>\n      <td>Downtown Toronto</td>\n      <td>Queen's Park, Ontario Provincial Government</td>\n    </tr>\n    <tr>\n      <th>7</th>\n      <td>M8A</td>\n      <td>Not assigned</td>\n      <td>Not assigned</td>\n    </tr>\n    <tr>\n      <th>8</th>\n      <td>M9A</td>\n      <td>Etobicoke</td>\n      <td>Islington Avenue, Humber Valley Village</td>\n    </tr>\n    <tr>\n      <th>9</th>\n      <td>M1B</td>\n      <td>Scarborough</td>\n      <td>Malvern, Rouge</td>\n    </tr>\n  </tbody>\n</table>\n</div>",
                        "text/plain": "  Postal Code            Borough                                  Neighborhood\n0        M1A\n      Not assigned\n                                 Not assigned\n\n1        M2A\n      Not assigned\n                                 Not assigned\n\n2        M3A\n        North York\n                                    Parkwoods\n\n3        M4A\n        North York\n                             Victoria Village\n\n4        M5A\n  Downtown Toronto\n                    Regent Park, Harbourfront\n\n5        M6A\n        North York\n             Lawrence Manor, Lawrence Heights\n\n6        M7A\n  Downtown Toronto\n  Queen's Park, Ontario Provincial Government\n\n7        M8A\n      Not assigned\n                                 Not assigned\n\n8        M9A\n         Etobicoke\n      Islington Avenue, Humber Valley Village\n\n9        M1B\n       Scarborough\n                               Malvern, Rouge"
                    },
                    "execution_count": 13,
                    "metadata": {},
                    "output_type": "execute_result"
                }
            ],
            "source": "df=pd.DataFrame(A,columns=['Postal Code'])\ndf['Borough']=B\ndf['Neighborhood']=C\ndf.head(10)"
        },
        {
            "cell_type": "code",
            "execution_count": null,
            "metadata": {},
            "outputs": [],
            "source": ""
        }
    ],
    "metadata": {
        "kernelspec": {
            "display_name": "Python 3.6",
            "language": "python",
            "name": "python3"
        },
        "language_info": {
            "codemirror_mode": {
                "name": "ipython",
                "version": 3
            },
            "file_extension": ".py",
            "mimetype": "text/x-python",
            "name": "python",
            "nbconvert_exporter": "python",
            "pygments_lexer": "ipython3",
            "version": "3.6.9"
        }
    },
    "nbformat": 4,
    "nbformat_minor": 1
}